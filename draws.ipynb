{
 "cells": [
  {
   "cell_type": "code",
   "execution_count": 2,
   "metadata": {
    "collapsed": true
   },
   "outputs": [],
   "source": [
    "import random\n",
    "import numpy as np"
   ]
  },
  {
   "cell_type": "code",
   "execution_count": 5,
   "metadata": {
    "collapsed": true
   },
   "outputs": [],
   "source": [
    "'''\n",
    "    Kaspers version with some minor changes to make it more pyton-like\n",
    "'''\n",
    "def kasper1(NO_OF_PACKAGES):\n",
    "    collectionList = []\n",
    "    #i=0\n",
    "    #while(i<NO_OF_PACKAGES):\n",
    "    #    collectionList.append(0)\n",
    "    #    i+=1\n",
    "\n",
    "    # Make a list with NO_OF_PACKAGES zeros\n",
    "    # Idea is to set the value to 1 if we\n",
    "    # later get this number\n",
    "\n",
    "    collectionList = [0]*NO_OF_PACKAGES #Un-nice but pytonesqe\n",
    "    \n",
    "    #Small change, we open package 0 to NO_OF_PACKAGES-1\n",
    "    #Since Python uses zero index\n",
    "    def openPackage():\n",
    "        philosopher = random.randint(0,NO_OF_PACKAGES - 1) \n",
    "        return philosopher\n",
    "\n",
    "    collected  = 0\n",
    "    numberOfPackages = 0\n",
    "    while collected < NO_OF_PACKAGES:\n",
    "        o = openPackage()\n",
    "        if collectionList[o] == 0:\n",
    "            collectionList[o] = 1\n",
    "            collected +=1\n",
    "        \n",
    "        numberOfPackages+=1\n",
    "\n",
    "    return numberOfPackages\n"
   ]
  },
  {
   "cell_type": "code",
   "execution_count": 7,
   "metadata": {
    "collapsed": true
   },
   "outputs": [],
   "source": [
    "# Idea follows Kaspers quite close, but instead of keeping track of\n",
    "# the list we make a \"bag\" with the numbers and pop them out until it's\n",
    "# empty. I think it's nuce because it's straightforward\n",
    "def fredrik1(NO_OF_PACKAGES):\n",
    "    packages = set(range(0,NO_OF_PACKAGES))\n",
    "    number_of_packages = 0\n",
    "    while packages:\n",
    "        packages.discard(random.randint(0,NO_OF_PACKAGES - 1))\n",
    "        number_of_packages += 1\n",
    "    \n",
    "    return number_of_packages"
   ]
  },
  {
   "cell_type": "code",
   "execution_count": 9,
   "metadata": {
    "collapsed": true
   },
   "outputs": [],
   "source": [
    " # Use numpy, otherwise much the same as fredrik1\n",
    "def fredrik2(NO_OF_PACKAGES):\n",
    "    packages = np.zeros((NO_OF_PACKAGES,), dtype='bool')\n",
    "    number_of_packages = 0\n",
    "    while not packages.all():\n",
    "        x = np.random.randint(0,NO_OF_PACKAGES)\n",
    "        packages[x] = True\n",
    "        number_of_packages +=1\n",
    "    \n",
    "    return number_of_packages\n",
    "    \n",
    "    "
   ]
  },
  {
   "cell_type": "code",
   "execution_count": 10,
   "metadata": {
    "collapsed": true
   },
   "outputs": [],
   "source": [
    "# The idea is to use a bitmap to keep track of the numbers instead\n",
    "# of the numbers itself (i.e.10 is a NO_OF_PACKAGES bit array with bit 10 set)\n",
    "# We then do a logical and on the matrix to find row number  of\n",
    "# first row where all bits are set\n",
    "# For efficiency, we create a N * NO_OF_PACKAGES matrix and\n",
    "# set one random bit per row. We then do an accumulative AND operation\n",
    "# to find first row where all bits are set.\n",
    "# It is similar to above but it uses bit operations instead of indices\n",
    "def fredrik3(NO_OF_PACKAGES):   \n",
    "    N = 100\n",
    "    foundIt = False\n",
    "    iter = 0\n",
    "    while not foundIt:\n",
    "        packages = np.zeros((N,NO_OF_PACKAGES), dtype='bool')\n",
    "        # Set bit X in each row to 1 to represent a random number\n",
    "        x = np.random.randint(0,NO_OF_PACKAGES,(N,)) + np.arange(0,N * NO_OF_PACKAGES,step=NO_OF_PACKAGES)\n",
    "        packages.flat[x] = True\n",
    "        # Accumulate each row\n",
    "        x2 = np.bitwise_or.accumulate(packages,axis=0)\n",
    "        # Check if all are True\n",
    "        x3 = np.bitwise_and.reduce(x2,axis=1)\n",
    "        # Here we use a little trick: argmax returns first occurence\n",
    "        # of maximum value, i.e True. If we have no Trues it returns zero\n",
    "        # so we have to make a special check if we have True on first row\n",
    "        # or if all is false\n",
    "        k = x3.argmax()\n",
    "        foundIt = True\n",
    "        if k > 0:\n",
    "            foundIt = True\n",
    "        else:\n",
    "            if x3[0]:\n",
    "                foundIt = True\n",
    "            else:\n",
    "                iter += 1\n",
    "        \n",
    "    \n",
    "    return N * iter + k + 1\n",
    " "
   ]
  },
  {
   "cell_type": "code",
   "execution_count": 12,
   "metadata": {
    "collapsed": true
   },
   "outputs": [],
   "source": [
    "# And we want to be able to run lots of time to see the convergence\n",
    "def openLotsOfPackages(fcn, N):\n",
    "    # Calculates the average of opening lots of packages.\n",
    "    # We do this to see where we have a convergence\n",
    "    NO_OF_PACKAGES = 66\n",
    "    m = 0\n",
    "    for i in range(N):\n",
    "        m +=fcn(NO_OF_PACKAGES)\n",
    "        \n",
    "    return m / N"
   ]
  },
  {
   "cell_type": "code",
   "execution_count": 16,
   "metadata": {},
   "outputs": [
    {
     "name": "stdout",
     "output_type": "stream",
     "text": [
      "4.96 s ± 819 ms per loop (mean ± std. dev. of 7 runs, 1 loop each)\n"
     ]
    }
   ],
   "source": [
    "# Now we check the results!\n",
    "%timeit openLotsOfPackages(kasper1,10000)"
   ]
  },
  {
   "cell_type": "code",
   "execution_count": 18,
   "metadata": {},
   "outputs": [
    {
     "name": "stdout",
     "output_type": "stream",
     "text": [
      "4.26 s ± 88.8 ms per loop (mean ± std. dev. of 7 runs, 1 loop each)\n"
     ]
    }
   ],
   "source": [
    "%timeit openLotsOfPackages(fredrik1,10000)"
   ]
  },
  {
   "cell_type": "code",
   "execution_count": 19,
   "metadata": {},
   "outputs": [
    {
     "name": "stdout",
     "output_type": "stream",
     "text": [
      "10 s ± 189 ms per loop (mean ± std. dev. of 7 runs, 1 loop each)\n"
     ]
    }
   ],
   "source": [
    "# Not much gain there, but let's try numpy version\n",
    "%timeit openLotsOfPackages(fredrik2,10000)"
   ]
  },
  {
   "cell_type": "code",
   "execution_count": 22,
   "metadata": {},
   "outputs": [
    {
     "name": "stdout",
     "output_type": "stream",
     "text": [
      "387 ms ± 43.3 ms per loop (mean ± std. dev. of 7 runs, 1 loop each)\n"
     ]
    }
   ],
   "source": [
    "# Slower??? Why is that? What did I do wrong? Last try, the bitwise matrix version\n",
    "%timeit openLotsOfPackages(fredrik3,10000)"
   ]
  },
  {
   "cell_type": "code",
   "execution_count": null,
   "metadata": {
    "collapsed": true
   },
   "outputs": [],
   "source": [
    "# SUCCESS! It was quite a bit faster"
   ]
  }
 ],
 "metadata": {
  "kernelspec": {
   "display_name": "Python 3",
   "language": "python",
   "name": "python3"
  },
  "language_info": {
   "codemirror_mode": {
    "name": "ipython",
    "version": 3
   },
   "file_extension": ".py",
   "mimetype": "text/x-python",
   "name": "python",
   "nbconvert_exporter": "python",
   "pygments_lexer": "ipython3",
   "version": "3.6.4"
  }
 },
 "nbformat": 4,
 "nbformat_minor": 2
}
